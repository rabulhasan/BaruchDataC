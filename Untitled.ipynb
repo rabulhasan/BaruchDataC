{
 "cells": [
  {
   "cell_type": "code",
   "execution_count": 4,
   "id": "8e44099b",
   "metadata": {},
   "outputs": [
    {
     "name": "stdout",
     "output_type": "stream",
     "text": [
      "Shape of DataFrame: (25163, 4)\n",
      "Column Names: Index(['NAICS_DESC', 'DATE', 'REVENUE', 'anonimized_name'], dtype='object')\n",
      "First Few Rows of DataFrame:\n",
      "           NAICS_DESC     DATE  REVENUE  anonimized_name\n",
      "0  Commercial Banking  8/30/21       22  Jason Brown INC\n",
      "1  Commercial Banking  8/31/21       98  Jason Brown INC\n",
      "2  Commercial Banking   9/1/21       77  Jason Brown INC\n",
      "3  Commercial Banking   9/2/21       82  Jason Brown INC\n",
      "4  Commercial Banking   9/3/21       76  Jason Brown INC\n",
      "Summary Statistics:\n",
      "             REVENUE\n",
      "count   25163.000000\n",
      "mean     6315.247387\n",
      "std      9355.128860\n",
      "min         0.000000\n",
      "25%      1444.500000\n",
      "50%      3962.000000\n",
      "75%      8113.500000\n",
      "max    286148.000000\n"
     ]
    },
    {
     "data": {
      "image/png": "[encoded data removed]",
      "text/plain": [
       "<Figure size 432x288 with 1 Axes>"
      ]
     },
     "metadata": {
      "needs_background": "light"
     },
     "output_type": "display_data"
    }
   ],
   "source": [
    "import pandas as pd\n",
    "import matplotlib.pyplot as plt\n",
    "import seaborn as sns\n",
    "\n",
    "# replace the file path with your own CSV file path\n",
    "csv_file = \"C:/Users/rhlin/OneDrive - The City University of New York (1)/Untitled Folder/train_anonimized.csv\"\n",
    "\n",
    "# read the CSV file using pandas\n",
    "df = pd.read_csv(csv_file)\n",
    "\n",
    "# get the number of rows and columns in the DataFrame\n",
    "print(\"Shape of DataFrame:\", df.shape)\n",
    "\n",
    "# get the column names\n",
    "print(\"Column Names:\", df.columns)\n",
    "\n",
    "# view the first few rows of the DataFrame\n",
    "print(\"First Few Rows of DataFrame:\")\n",
    "print(df.head())\n",
    "\n",
    "# get summary statistics for the numeric columns\n",
    "print(\"Summary Statistics:\")\n",
    "print(df.describe())\n",
    "\n",
    "# create a histogram of a numeric column\n",
    "sns.histplot(data=df, x=\"REVENUE\")\n",
    "plt.show()\n"
   ]
  },
  {
   "cell_type": "code",
   "execution_count": null,
   "id": "dd7d6d30",
   "metadata": {},
   "outputs": [],
   "source": []
  }
 ],
 "metadata": {
  "kernelspec": {
   "display_name": "Python 3 (ipykernel)",
   "language": "python",
   "name": "python3"
  },
  "language_info": {
   "codemirror_mode": {
    "name": "ipython",
    "version": 3
   },
   "file_extension": ".py",
   "mimetype": "text/x-python",
   "name": "python",
   "nbconvert_exporter": "python",
   "pygments_lexer": "ipython3",
   "version": "3.9.12"
  }
 },
 "nbformat": 4,
 "nbformat_minor": 5
}
